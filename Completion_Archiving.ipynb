{
 "cells": [
  {
   "cell_type": "code",
   "execution_count": 6,
   "metadata": {},
   "outputs": [
    {
     "data": {
      "text/html": [
       "<div class='gpresult'><h2 class='msg-title'>Messages</h2><div id='messages'>Start Time: Tuesday, July 8, 2025 11:05:59 AM<br>Succeeded at Tuesday, July 8, 2025 11:05:59 AM (Elapsed Time: 0.30 seconds)<br></div><div id = 'default' /></div></div>"
      ],
      "text/plain": [
       "<Result 'TempTestCopy'>"
      ]
     },
     "execution_count": 6,
     "metadata": {},
     "output_type": "execute_result"
    }
   ],
   "source": [
    "import arcpy\n",
    "\n",
    "geodatabasePath = \"C:\\\\Users\\\\sevmy\\\\OneDrive\\\\Documents\\\\ArcGIS\\\\Packages\\\\Ambler_Playground_6fa0c0\\\\commondata\\\\default.gdb\"\n",
    "\n",
    "inputClass = \"Ambler_Final\"\n",
    "outputClass = \"TempTestCopy\"\n",
    "\n",
    "arcpy.MakeFeatureLayer_management(f\"{geodatabasePath}\\\\{inputClass}\", outputClass)"
   ]
  },
  {
   "cell_type": "code",
   "execution_count": 4,
   "metadata": {},
   "outputs": [
    {
     "name": "stdout",
     "output_type": "stream",
     "text": [
      "C:\\Users\\sevmy\\OneDrive\\Documents\\ArcGIS\\Packages\\Ambler_Playground_6fa0c0\\p30\n"
     ]
    }
   ],
   "source": [
    "import os\n",
    "print(os.getcwd())"
   ]
  },
  {
   "cell_type": "code",
   "execution_count": 2,
   "metadata": {
    "scrolled": true
   },
   "outputs": [
    {
     "name": "stdout",
     "output_type": "stream",
     "text": [
      "OBJECTID\n",
      "Shape\n",
      "Type\n",
      "Shape_Length\n",
      "Shape_Area\n",
      "Completed\n",
      "Date_Completed\n"
     ]
    }
   ],
   "source": [
    "#### APPROACH #2 ####\n",
    "import arcpy\n",
    "MAP_NAME = \"Ambler Flatwood Trail Map\"\n",
    "CORE_LAYER_NAME = \"Ambler_Final\"\n",
    "\n",
    "aprx = arcpy.mp.ArcGISProject(\"CURRENT\") #get project\n",
    "maps = aprx.listMaps(\"Ambler Flatwood Trail Map\")\n",
    "assert len(maps) == 1, \"Multiple Maps Found (Check Map Name)\"\n",
    "\n",
    "mp = maps[0]\n",
    "lyrs = mp.listLayers(CORE_LAYER_NAME)\n",
    "assert len(lyrs) == 1, \"Multiple Layers Found (Check Layer Name)\"\n",
    "lyr = lyrs[0]\n",
    "lyr.dataSource\n",
    "\n",
    "for f in arcpy.ListFields(lyr.dataSource):\n",
    "    print(f.name)\n",
    "\n",
    "### Ways Forward ###\n",
    "#Create a new feature class from selected features\n",
    "#arcpy.Select_analysis(\"cities\", \"C:/GIS/output.gdb/large_cities\", '\"POPULATION\" > 100000')\n",
    "\n",
    "#access feature attributes\n",
    "#fc = \"C:/GIS/data.gdb/cities\"\n",
    "\n",
    "#with arcpy.da.SearchCursor(fc, [\"SHAPE@\", \"NAME\", \"POPULATION\"]) as cursor:\n",
    "#    for row in cursor:\n",
    "#        geometry = row[0]  # SHAPE@ gives geometry\n",
    "#        name = row[1]\n",
    "#        population = row[2]\n",
    "#        print(f\"{name}: {population}, Centroid: {geometry.centroid}\")\n",
    "\n",
    "#^ ^^This could be used in conjunction iwth InsertCursor() to create enteries\n",
    "#https://support.esri.com/en-us/knowledge-base/how-to-add-features-to-a-feature-class-using-arcpy-in-a-000018755\n",
    "#row_values = [('Anderson', (1409934.4442000017, 1076766.8192000017)), ('Andrews', (752000.2489000037, 1128929.8114))]\n",
    "#cursor = arcpy.da.InsertCursor(\"C://sample.gdb/test\",(\"[row 1]\", \"[row 2]\"))\n",
    "#for row in row_values:\n",
    "    #cursor.insertRow(row)\n",
    "#del cursor\n",
    "\n",
    "#like select analysis but with sql?\n",
    "#in_fc = \"C:/GIS/data.gdb/roads\"\n",
    "#out_gdb = \"C:/GIS/output.gdb\"\n",
    "#out_fc = \"major_roads\"\n",
    "#sql = '\"ROAD_TYPE\" = \\'Highway\\''\n",
    "\n",
    "#arcpy.FeatureClassToFeatureClass_conversion(in_fc, out_gdb, out_fc, sql)"
   ]
  },
  {
   "cell_type": "code",
   "execution_count": 21,
   "metadata": {},
   "outputs": [
    {
     "data": {
      "text/html": [
       "<div class='gpresult'><h2 class='msg-title'>Messages</h2><div id='messages'>Start Time: Tuesday, July 22, 2025 10:37:29 AM<br>Succeeded at Tuesday, July 22, 2025 10:37:32 AM (Elapsed Time: 2.84 seconds)<br></div><div id = 'default' /></div></div>"
      ],
      "text/plain": [
       "<Result 'C:\\\\Users\\\\sevmy\\\\OneDrive\\\\Documents\\\\ArcGIS\\\\Packages\\\\Ambler_Playground_6fa0c0\\\\commondata\\\\default.gdb\\\\Completed'>"
      ]
     },
     "execution_count": 21,
     "metadata": {},
     "output_type": "execute_result"
    }
   ],
   "source": [
    "#### APPROACH #2 - Tools via Management ####\n",
    "import arcpy\n",
    "\n",
    "### Core Settings ###\n",
    "MAP_NAME = \"Ambler Flatwood Trail Map\"\n",
    "CORE_LAYER_NAME = \"Ambler_Final\"\n",
    "ARCHIVE_LAYER_NAME = \"Completed\"\n",
    "FNAME_COMPLETION = \"Completed\"\n",
    "FNAME_COMPLETE_DATE = \"Date_Completed\"\n",
    "\n",
    "aprx = arcpy.mp.ArcGISProject(\"CURRENT\") #get project\n",
    "maps = aprx.listMaps(\"Ambler Flatwood Trail Map\")\n",
    "assert len(maps) == 1, \"Multiple Maps Found (Check Map Name)\"\n",
    "\n",
    "mp = maps[0]\n",
    "lyrs = mp.listLayers(CORE_LAYER_NAME)\n",
    "assert len(lyrs) == 1, \"Multiple Layers Found (Check Layer Name)\"\n",
    "dataLyr = lyrs[0]\n",
    "\n",
    "sql = f\"{FNAME_COMPLETION} = 'Yes'\"\n",
    "\n",
    "arcpy.management.SelectLayerByAttribute(dataLyr, \"NEW_SELECTION\", sql)\n",
    "arcpy.management.CopyFeatures(dataLyr, ARCHIVE_LAYER_NAME)"
   ]
  },
  {
   "cell_type": "code",
   "execution_count": null,
   "metadata": {},
   "outputs": [],
   "source": [
    "#### APPROACH #2 - Cursor via Data Access ####\n",
    "import arcpy\n",
    "MAP_NAME = \"Ambler Flatwood Trail Map\"\n",
    "CORE_LAYER_NAME = \"Ambler_Final\"\n",
    "\n",
    "aprx = arcpy.mp.ArcGISProject(\"CURRENT\") #get project\n",
    "maps = aprx.listMaps(\"Ambler Flatwood Trail Map\")\n",
    "assert len(maps) == 1, \"Multiple Maps Found (Check Map Name)\"\n",
    "\n",
    "mp = maps[0]\n",
    "lyrs = mp.listLayers(CORE_LAYER_NAME)\n",
    "assert len(lyrs) == 1, \"Multiple Layers Found (Check Layer Name)\"\n",
    "lyr = lyrs[0]\n",
    "lyr.dataSource\n",
    "\n",
    "for f in arcpy.ListFields(lyr.dataSource):\n",
    "    print(f.name)"
   ]
  }
 ],
 "metadata": {
  "kernelspec": {
   "display_name": "ArcGISPro",
   "language": "python",
   "name": "python3"
  },
  "language_info": {
   "file_extension": ".py",
   "mimetype": "text/x-python",
   "name": "python",
   "version": "3.11.10"
  }
 },
 "nbformat": 4,
 "nbformat_minor": 4
}
